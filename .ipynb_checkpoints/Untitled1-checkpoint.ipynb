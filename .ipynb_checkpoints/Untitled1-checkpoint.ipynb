{
 "cells": [
  {
   "cell_type": "code",
   "execution_count": 88,
   "metadata": {
    "collapsed": false
   },
   "outputs": [],
   "source": [
    "import json\n",
    "import csv\n",
    "from geopy.distance import great_circle\n",
    "from geopy.distance import vincenty\n",
    "import pandas as pd\n",
    "import numpy as np\n",
    "import simplejson, urllib\n",
    "import googlemaps\n",
    "from datetime import datetime\n",
    "from geopy.distance import great_circle\n",
    "from geopy.distance import vincenty\n",
    "with open(\"data/201803_citibikenyc_tripdata.csv\") as f:\n",
    "    reader = csv.reader(f)\n",
    "df = pd.read_csv('data/201803_citibikenyc_tripdata.csv',sep=',', encoding='latin1', index_col=None)\n",
    "df4=df[1:4]\n",
    "df = pd.read_csv('data/201803_citibikenyc_tripdata.csv',sep=',', encoding='latin1', index_col=False)\n",
    "df4=df[0:10]\n",
    "\n",
    "def greatCircleDistance(x, y):\n",
    "    lat1, lon1 = x[0], x[1]\n",
    "    lat2, lon2 = y[0], y[1]\n",
    "    return vincenty((lat1, lon1), (lat2, lon2)).kilometers\n",
    "metric=greatCircleDistance((df4['start station latitude'][1], df4['start station longitude'][1]),\n",
    "        (df4['end station latitude'][1], df4['end station longitude'][1]))\n",
    "print(metric)\n",
    "df4.apply(\n",
    "    lambda x: vincenty(\n",
    "        (x['start station latitude'], x['start station longitude']),(x['end station latitude'], x['end station longitude'])\n",
    "    ))\n",
    "df4.apply(\n",
    "    lambda x: vincety(\n",
    "        ([x['start station latitude'], x['start station longitude']]).tolist,\n",
    "        ([x['end station latitude'].tolist(), x['end station longitude']]).tolist\n",
    "    )\n",
    "df4['start station latitude'].tolist()\n",
    "df = pd.read_csv('data/201803_citibikenyc_tripdata.csv',sep=',', encoding='latin1', index_col=None)\n",
    "df4=df[1:4]\n",
    "df4['start station latitude'].apply(lambda x: x + 1)"
   ]
  },
  {
   "cell_type": "code",
   "execution_count": 184,
   "metadata": {
    "collapsed": false
   },
   "outputs": [],
   "source": [
    "df = pd.read_csv('data/201803_citibikenyc_tripdata.csv',sep=',', encoding='latin1', index_col=None)\n",
    "df4=df[1:16]\n"
   ]
  },
  {
   "cell_type": "code",
   "execution_count": 185,
   "metadata": {
    "collapsed": false
   },
   "outputs": [
    {
     "name": "stderr",
     "output_type": "stream",
     "text": [
      "/anaconda/lib/python2.7/site-packages/ipykernel/__main__.py:2: SettingWithCopyWarning: \n",
      "A value is trying to be set on a copy of a slice from a DataFrame.\n",
      "Try using .loc[row_indexer,col_indexer] = value instead\n",
      "\n",
      "See the caveats in the documentation: http://pandas.pydata.org/pandas-docs/stable/indexing.html#indexing-view-versus-copy\n",
      "  from ipykernel import kernelapp as app\n"
     ]
    }
   ],
   "source": [
    "df4['distance'] = df4.apply(lambda x: vincenty((x['start station latitude'], x['start station longitude']), \n",
    "                                              (x['end station latitude'], x['end station longitude'])), axis = 1)\n"
   ]
  },
  {
   "cell_type": "code",
   "execution_count": null,
   "metadata": {
    "collapsed": false
   },
   "outputs": [],
   "source": []
  },
  {
   "cell_type": "code",
   "execution_count": 137,
   "metadata": {
    "collapsed": false
   },
   "outputs": [
    {
     "data": {
      "text/plain": [
       "1      1.10926590629 km\n",
       "2     0.966350152638 km\n",
       "3      3.66808489913 km\n",
       "4     0.141285740817 km\n",
       "5      2.37884350289 km\n",
       "6      2.84317864104 km\n",
       "7      1.93543592206 km\n",
       "8      2.70561189205 km\n",
       "9       2.9254632617 km\n",
       "10     1.85914726998 km\n",
       "11     3.13615600836 km\n",
       "12     1.02188282092 km\n",
       "13    0.779936596141 km\n",
       "14     2.70561189205 km\n",
       "15     5.13309910498 km\n",
       "Name: distance, dtype: object"
      ]
     },
     "execution_count": 137,
     "metadata": {},
     "output_type": "execute_result"
    }
   ],
   "source": [
    "df4['distance']\n"
   ]
  },
  {
   "cell_type": "code",
   "execution_count": 134,
   "metadata": {
    "collapsed": false
   },
   "outputs": [
    {
     "data": {
      "text/html": [
       "<div>\n",
       "<style>\n",
       "    .dataframe thead tr:only-child th {\n",
       "        text-align: right;\n",
       "    }\n",
       "\n",
       "    .dataframe thead th {\n",
       "        text-align: left;\n",
       "    }\n",
       "\n",
       "    .dataframe tbody tr th {\n",
       "        vertical-align: top;\n",
       "    }\n",
       "</style>\n",
       "<table border=\"1\" class=\"dataframe\">\n",
       "  <thead>\n",
       "    <tr style=\"text-align: right;\">\n",
       "      <th></th>\n",
       "      <th>tripduration</th>\n",
       "      <th>starttime</th>\n",
       "      <th>stoptime</th>\n",
       "      <th>start station id</th>\n",
       "      <th>start station name</th>\n",
       "      <th>start station latitude</th>\n",
       "      <th>start station longitude</th>\n",
       "      <th>end station id</th>\n",
       "      <th>end station name</th>\n",
       "      <th>end station latitude</th>\n",
       "      <th>end station longitude</th>\n",
       "      <th>bikeid</th>\n",
       "      <th>name_localizedValue0</th>\n",
       "      <th>usertype</th>\n",
       "      <th>birth year</th>\n",
       "      <th>gender</th>\n",
       "      <th>distance</th>\n",
       "    </tr>\n",
       "  </thead>\n",
       "  <tbody>\n",
       "    <tr>\n",
       "      <th>1</th>\n",
       "      <td>486</td>\n",
       "      <td>2018-03-01 00:00:06</td>\n",
       "      <td>2018-03-01 00:08:12</td>\n",
       "      <td>146</td>\n",
       "      <td>Hudson St &amp; Reade St</td>\n",
       "      <td>40.716250</td>\n",
       "      <td>-74.009106</td>\n",
       "      <td>363</td>\n",
       "      <td>West Thames St</td>\n",
       "      <td>40.708347</td>\n",
       "      <td>-74.017134</td>\n",
       "      <td>31491</td>\n",
       "      <td>Annual Membership</td>\n",
       "      <td>Subscriber</td>\n",
       "      <td>1954.0</td>\n",
       "      <td>1</td>\n",
       "      <td>1.10926590629 km</td>\n",
       "    </tr>\n",
       "    <tr>\n",
       "      <th>2</th>\n",
       "      <td>333</td>\n",
       "      <td>2018-03-01 00:00:07</td>\n",
       "      <td>2018-03-01 00:05:41</td>\n",
       "      <td>257</td>\n",
       "      <td>Lispenard St &amp; Broadway</td>\n",
       "      <td>40.719392</td>\n",
       "      <td>-74.002472</td>\n",
       "      <td>361</td>\n",
       "      <td>Allen St &amp; Hester St</td>\n",
       "      <td>40.716059</td>\n",
       "      <td>-73.991908</td>\n",
       "      <td>31991</td>\n",
       "      <td>FREE Bonus Month with Annual Membership</td>\n",
       "      <td>Subscriber</td>\n",
       "      <td>1986.0</td>\n",
       "      <td>1</td>\n",
       "      <td>0.966350152638 km</td>\n",
       "    </tr>\n",
       "    <tr>\n",
       "      <th>3</th>\n",
       "      <td>1629</td>\n",
       "      <td>2018-03-01 00:00:21</td>\n",
       "      <td>2018-03-01 00:27:31</td>\n",
       "      <td>3556</td>\n",
       "      <td>24 St &amp; 41 Ave</td>\n",
       "      <td>40.752709</td>\n",
       "      <td>-73.939740</td>\n",
       "      <td>3532</td>\n",
       "      <td>Ditmars Blvd &amp; 19 St</td>\n",
       "      <td>40.781450</td>\n",
       "      <td>-73.918330</td>\n",
       "      <td>18265</td>\n",
       "      <td>Annual Membership</td>\n",
       "      <td>Subscriber</td>\n",
       "      <td>1990.0</td>\n",
       "      <td>1</td>\n",
       "      <td>3.66808489913 km</td>\n",
       "    </tr>\n",
       "  </tbody>\n",
       "</table>\n",
       "</div>"
      ],
      "text/plain": [
       "   tripduration            starttime             stoptime  start station id  \\\n",
       "1           486  2018-03-01 00:00:06  2018-03-01 00:08:12               146   \n",
       "2           333  2018-03-01 00:00:07  2018-03-01 00:05:41               257   \n",
       "3          1629  2018-03-01 00:00:21  2018-03-01 00:27:31              3556   \n",
       "\n",
       "        start station name  start station latitude  start station longitude  \\\n",
       "1     Hudson St & Reade St               40.716250               -74.009106   \n",
       "2  Lispenard St & Broadway               40.719392               -74.002472   \n",
       "3           24 St & 41 Ave               40.752709               -73.939740   \n",
       "\n",
       "   end station id      end station name  end station latitude  \\\n",
       "1             363        West Thames St             40.708347   \n",
       "2             361  Allen St & Hester St             40.716059   \n",
       "3            3532  Ditmars Blvd & 19 St             40.781450   \n",
       "\n",
       "   end station longitude  bikeid                     name_localizedValue0  \\\n",
       "1             -74.017134   31491                        Annual Membership   \n",
       "2             -73.991908   31991  FREE Bonus Month with Annual Membership   \n",
       "3             -73.918330   18265                        Annual Membership   \n",
       "\n",
       "     usertype  birth year  gender           distance  \n",
       "1  Subscriber      1954.0       1   1.10926590629 km  \n",
       "2  Subscriber      1986.0       1  0.966350152638 km  \n",
       "3  Subscriber      1990.0       1   3.66808489913 km  "
      ]
     },
     "execution_count": 134,
     "metadata": {},
     "output_type": "execute_result"
    }
   ],
   "source": [
    "df4"
   ]
  },
  {
   "cell_type": "code",
   "execution_count": 151,
   "metadata": {
    "collapsed": false
   },
   "outputs": [
    {
     "data": {
      "text/plain": [
       "1      1.10926590629 km\n",
       "2     0.966350152638 km\n",
       "3      3.66808489913 km\n",
       "4     0.141285740817 km\n",
       "5      2.37884350289 km\n",
       "6      2.84317864104 km\n",
       "7      1.93543592206 km\n",
       "8      2.70561189205 km\n",
       "9       2.9254632617 km\n",
       "10     1.85914726998 km\n",
       "11     3.13615600836 km\n",
       "12     1.02188282092 km\n",
       "13    0.779936596141 km\n",
       "14     2.70561189205 km\n",
       "15     5.13309910498 km\n",
       "Name: distance, dtype: object"
      ]
     },
     "execution_count": 151,
     "metadata": {},
     "output_type": "execute_result"
    }
   ],
   "source": [
    "\n",
    "df4['distance']\n"
   ]
  },
  {
   "cell_type": "code",
   "execution_count": 156,
   "metadata": {
    "collapsed": false
   },
   "outputs": [
    {
     "data": {
      "text/plain": [
       "tripduration                 int64\n",
       "starttime                   object\n",
       "stoptime                    object\n",
       "start station id             int64\n",
       "start station name          object\n",
       "start station latitude     float64\n",
       "start station longitude    float64\n",
       "end station id               int64\n",
       "end station name            object\n",
       "end station latitude       float64\n",
       "end station longitude      float64\n",
       "bikeid                       int64\n",
       "name_localizedValue0        object\n",
       "usertype                    object\n",
       "birth year                 float64\n",
       "gender                       int64\n",
       "distance                    object\n",
       "dtype: object"
      ]
     },
     "execution_count": 156,
     "metadata": {},
     "output_type": "execute_result"
    }
   ],
   "source": [
    "df4.dtypes"
   ]
  },
  {
   "cell_type": "code",
   "execution_count": 166,
   "metadata": {
    "collapsed": false
   },
   "outputs": [
    {
     "name": "stdout",
     "output_type": "stream",
     "text": [
      "Empty DataFrame\n",
      "Columns: [tripduration, starttime, stoptime, start station id, start station name, start station latitude, start station longitude, end station id, end station name, end station latitude, end station longitude, bikeid, name_localizedValue0, usertype, birth year, gender, distance]\n",
      "Index: []\n"
     ]
    }
   ],
   "source": [
    "WomenOnly=df4.groupby('gender').filter(lambda x: ((x.gender == 1)).all())\n",
    "WomenOnly[:3]\n",
    "MenOnly= df4.groupby('gender').filter(lambda x: ((x.gender == 2)).all())\n",
    "print(MenOnly[:3])\n",
    "UnknownGender=df.groupby('gender').filter(lambda x: ((x.gender == 0)).all())"
   ]
  },
  {
   "cell_type": "code",
   "execution_count": 173,
   "metadata": {
    "collapsed": false
   },
   "outputs": [],
   "source": [
    "# get the gender filtered data \n",
    "WomenOnly=df4.groupby('gender').filter(lambda x: ((x.gender == 1)).all())\n",
    "Menonly=df4.groupby('gender').filter(lambda x: ((x.gender == 2)).all())\n",
    "UnknowngG=df4.groupby('gender').filter(lambda x: ((x.gender == 0)).all())"
   ]
  },
  {
   "cell_type": "code",
   "execution_count": 181,
   "metadata": {
    "collapsed": false
   },
   "outputs": [
    {
     "ename": "TypeError",
     "evalue": "'instancemethod' object has no attribute '__getitem__'",
     "output_type": "error",
     "traceback": [
      "\u001b[0;31m---------------------------------------------------------------------------\u001b[0m",
      "\u001b[0;31mTypeError\u001b[0m                                 Traceback (most recent call last)",
      "\u001b[0;32m<ipython-input-181-66c08f6391d9>\u001b[0m in \u001b[0;36m<module>\u001b[0;34m()\u001b[0m\n\u001b[0;32m----> 1\u001b[0;31m \u001b[0mdf4\u001b[0m\u001b[0;34m.\u001b[0m\u001b[0mgroupby\u001b[0m\u001b[0;34m[\u001b[0m\u001b[0;34m'gender'\u001b[0m\u001b[0;34m]\u001b[0m\u001b[0;34m\u001b[0m\u001b[0m\n\u001b[0m",
      "\u001b[0;31mTypeError\u001b[0m: 'instancemethod' object has no attribute '__getitem__'"
     ]
    }
   ],
   "source": [
    "df4.groupby['gender']"
   ]
  },
  {
   "cell_type": "code",
   "execution_count": 183,
   "metadata": {
    "collapsed": false
   },
   "outputs": [
    {
     "name": "stdout",
     "output_type": "stream",
     "text": [
      "<pandas.core.groupby.DataFrameGroupBy object at 0x1f1ebea10>\n"
     ]
    }
   ],
   "source": [
    "print(df4.groupby('gender'))"
   ]
  },
  {
   "cell_type": "code",
   "execution_count": null,
   "metadata": {
    "collapsed": true
   },
   "outputs": [],
   "source": [
    "data.groupby(df4.date.dt.year)"
   ]
  },
  {
   "cell_type": "code",
   "execution_count": null,
   "metadata": {
    "collapsed": true
   },
   "outputs": [],
   "source": []
  }
 ],
 "metadata": {
  "anaconda-cloud": {},
  "kernelspec": {
   "display_name": "Python [default]",
   "language": "python",
   "name": "python2"
  },
  "language_info": {
   "codemirror_mode": {
    "name": "ipython",
    "version": 2
   },
   "file_extension": ".py",
   "mimetype": "text/x-python",
   "name": "python",
   "nbconvert_exporter": "python",
   "pygments_lexer": "ipython2",
   "version": "2.7.12"
  }
 },
 "nbformat": 4,
 "nbformat_minor": 1
}
