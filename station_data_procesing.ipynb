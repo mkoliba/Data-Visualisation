{
 "cells": [
  {
   "cell_type": "markdown",
   "metadata": {},
   "source": [
    "# NYC Citi Bike - Data preprocesing for Map\n",
    "We downloaded data from \n",
    "First we import data from CSV file"
   ]
  },
  {
   "cell_type": "code",
   "execution_count": 1,
   "metadata": {},
   "outputs": [],
   "source": [
    "from csv import DictReader\n",
    "\n",
    "the_reader = DictReader(open('data/201803_citibikenyc_tripdata.csv', 'r'))\n",
    "data = []\n",
    "for line_dict in the_reader:\n",
    "    data.append(line_dict)"
   ]
  },
  {
   "cell_type": "code",
   "execution_count": 2,
   "metadata": {},
   "outputs": [
    {
     "data": {
      "text/plain": [
       "OrderedDict([('tripduration', '455'),\n",
       "             ('starttime', '2018-03-01 00:00:03'),\n",
       "             ('stoptime', '2018-03-01 00:07:39'),\n",
       "             ('start station id', '405'),\n",
       "             ('start station name', 'Washington St & Gansevoort St'),\n",
       "             ('start station latitude', '40.739323'),\n",
       "             ('start station longitude', '-74.008119'),\n",
       "             ('end station id', '368'),\n",
       "             ('end station name', 'Carmine St & 6 Ave'),\n",
       "             ('end station latitude', '40.73038599'),\n",
       "             ('end station longitude', '-74.00214988'),\n",
       "             ('bikeid', '17629'),\n",
       "             ('name_localizedValue0', 'Annual Membership from Citi Bike App'),\n",
       "             ('usertype', 'Subscriber'),\n",
       "             ('birth year', '1993'),\n",
       "             ('gender', '1')])"
      ]
     },
     "execution_count": 2,
     "metadata": {},
     "output_type": "execute_result"
    }
   ],
   "source": [
    "data[0]"
   ]
  },
  {
   "cell_type": "markdown",
   "metadata": {},
   "source": [
    "We selected from the dataset only relevant informations about the stations and sorted stations based on their names in alphabetical order."
   ]
  },
  {
   "cell_type": "code",
   "execution_count": 5,
   "metadata": {},
   "outputs": [
    {
     "name": "stdout",
     "output_type": "stream",
     "text": [
      "{'name': '1 Ave & E 110 St', 'lat': '40.7923272', 'lon': '-73.9383'}\n"
     ]
    }
   ],
   "source": [
    "##get list of stations\n",
    "import collections\n",
    "dic_stations = {}\n",
    "\n",
    "for item in data:\n",
    "    dic_stations[item['start station name']] =  {'name': item['start station name'], 'lat':  item['start station latitude'],'lon': item['start station longitude']}\n",
    "    dic_stations[item['end station name']] = {'name': item['end station name'], 'lat':  item['end station latitude'],'lon': item['end station longitude']}\n",
    "\n",
    "# list of stations used for visualisation    \n",
    "simple_stations = sorted(dic_stations.values(), key=lambda x: x['name'] )\n",
    "\n",
    "# dictionary of station used for futher calculation\n",
    "dic_stations = collections.OrderedDict(sorted(dic_stations.items(), key=lambda x: x[1]['name'] ))\n",
    "\n",
    "print(simple_stations[0])\n"
   ]
  },
  {
   "cell_type": "code",
   "execution_count": 6,
   "metadata": {},
   "outputs": [
    {
     "name": "stdout",
     "output_type": "stream",
     "text": [
      "{'name': '1 Ave & E 110 St', 'lat': '40.7923272', 'lon': '-73.9383', 'o': 0}\n"
     ]
    }
   ],
   "source": [
    "i=0\n",
    "#station_sorted = sorted(stations.items(), key=lambda x: x[1]['name'])\n",
    "stations = dic_stations\n",
    "\n",
    "#added index\n",
    "for station in stations:\n",
    "    stations[station]['o'] = i\n",
    "    i += 1\n",
    "print(stations['1 Ave & E 110 St'])"
   ]
  },
  {
   "cell_type": "code",
   "execution_count": 18,
   "metadata": {},
   "outputs": [
    {
     "data": {
      "text/plain": [
       "771"
      ]
     },
     "execution_count": 18,
     "metadata": {},
     "output_type": "execute_result"
    }
   ],
   "source": [
    "len(stations)"
   ]
  },
  {
   "cell_type": "markdown",
   "metadata": {},
   "source": [
    "We filter only rents which begin on 1.3.2018"
   ]
  },
  {
   "cell_type": "code",
   "execution_count": 7,
   "metadata": {},
   "outputs": [],
   "source": [
    "firstday = []\n",
    "for rent in data:\n",
    "    if rent['starttime'][:10] == '2018-03-06':\n",
    "        firstday.append(rent)\n",
    "        "
   ]
  },
  {
   "cell_type": "code",
   "execution_count": 121,
   "metadata": {},
   "outputs": [
    {
     "data": {
      "text/plain": [
       "42688"
      ]
     },
     "execution_count": 121,
     "metadata": {},
     "output_type": "execute_result"
    }
   ],
   "source": [
    "len(firstday)"
   ]
  },
  {
   "cell_type": "code",
   "execution_count": 8,
   "metadata": {},
   "outputs": [
    {
     "data": {
      "text/plain": [
       "0"
      ]
     },
     "execution_count": 8,
     "metadata": {},
     "output_type": "execute_result"
    }
   ],
   "source": [
    "#Function which translate time to the index of the bucket. Bucket are 10 minute blocks starting at 00:00\n",
    "\n",
    "def timeStrToBucket (time_str):\n",
    "    hours = int(time_str[11:13])\n",
    "    minutes = int( time_str[14:16])\n",
    "    index = (hours*6) + int(minutes / 10)\n",
    "    return index\n",
    "\n",
    "timeStrToBucket(\"2018-03-01 00:00:03\")"
   ]
  },
  {
   "cell_type": "markdown",
   "metadata": {},
   "source": [
    "I created nested list with dimension 144x771. Every cell contain pair [# rented, # returned] bikes. Rows of the nested list (first dimetion) are equivalent to the 10 minutes time blocks starting at 00:00. Columns (second dimention) are equivalent to order of station."
   ]
  },
  {
   "cell_type": "code",
   "execution_count": 9,
   "metadata": {},
   "outputs": [],
   "source": [
    "buckets = [None] * 144\n",
    "\n",
    "for i in range(144):\n",
    "    buckets[i] = []\n",
    "    for j in range(771):\n",
    "        buckets[i].append([0,0])\n",
    "\n",
    "\n",
    "for rent in firstday:\n",
    "    start_station = rent['start station name']\n",
    "    end_station = rent['end station name']\n",
    "    \n",
    "    start_index = timeStrToBucket(rent['starttime'])\n",
    "    stop_index = timeStrToBucket(rent['stoptime'])\n",
    "    #print('1st: {} id: {}; 2st: {} id: {}'.format(start_station, start_index, end_station, stop_index))\n",
    "    #print(start_station, start_index, end_station, stop_index)\n",
    "    #print(start_station, end_station, start_index, stop_index)\n",
    "    buckets[start_index][stations[start_station]['o']][0] += 1\n",
    "    buckets[stop_index][stations[end_station]['o']][1] += 1\n",
    "\n",
    "#print(buckets)"
   ]
  },
  {
   "cell_type": "markdown",
   "metadata": {},
   "source": [
    "Each row we sum with previous rows, so we could derermine how many bikes were rented and returned to that station from begining of the day to the specific time block, including it."
   ]
  },
  {
   "cell_type": "code",
   "execution_count": 14,
   "metadata": {},
   "outputs": [
    {
     "name": "stdout",
     "output_type": "stream",
     "text": [
      "[[24, 22], [168, 176], [118, 114], [128, 132], [89, 91], [103, 99], [164, 167], [107, 81], [36, 38], [12, 14], [19, 18], [15, 16], [17, 12], [105, 149], [114, 116], [112, 114], [2, 2], [2, 4], [111, 112], [7, 11]]\n"
     ]
    }
   ],
   "source": [
    "#buckets for coloring circles\n",
    "from copy import deepcopy\n",
    "sumbuckets = deepcopy(buckets)\n",
    "\n",
    "for column in range(771):\n",
    "    for row in range(143):\n",
    "        sumbuckets[row+1][column][0] += sumbuckets[row][column][0]\n",
    "        sumbuckets[row+1][column][1] += sumbuckets[row][column][1]\n",
    "        \n",
    "print(sumbuckets[143][0:20])"
   ]
  },
  {
   "cell_type": "markdown",
   "metadata": {},
   "source": [
    "The maximum number of rented and returned bikes in one station in whole day"
   ]
  },
  {
   "cell_type": "code",
   "execution_count": 125,
   "metadata": {},
   "outputs": [
    {
     "name": "stdout",
     "output_type": "stream",
     "text": [
      "579 575\n"
     ]
    }
   ],
   "source": [
    "max1 = max2 =0\n",
    "for pair in sumbuckets[143]:\n",
    "    if pair[0] > max1: max1 = pair[0]\n",
    "    if pair[1] > max2: max2 = pair[1]\n",
    "        \n",
    "print(max1, max2)"
   ]
  },
  {
   "cell_type": "markdown",
   "metadata": {},
   "source": [
    "Export data for map visualisation"
   ]
  },
  {
   "cell_type": "code",
   "execution_count": 28,
   "metadata": {},
   "outputs": [],
   "source": [
    "import json\n",
    "export = {\n",
    "    'max_out': max1,\n",
    "    'max_in': max2,\n",
    "    'stations': simple_stations,\n",
    "    \"values\": sumbuckets,\n",
    "}\n",
    "with open(\"data/stations_rents_outin.json\", 'w') as file:\n",
    "    json.dump(export, file)"
   ]
  },
  {
   "cell_type": "markdown",
   "metadata": {},
   "source": [
    "We calculated data for the bar chart under the map. Each cell of the list contain how many rents were realised in the 10 minute time block starting at 00:00"
   ]
  },
  {
   "cell_type": "code",
   "execution_count": 11,
   "metadata": {},
   "outputs": [
    {
     "name": "stdout",
     "output_type": "stream",
     "text": [
      "[49, 31, 28, 32, 35, 25, 19, 13, 11, 17, 13, 11, 6, 9, 8, 10, 8, 1, 10, 8, 7, 6, 2, 5, 1, 2, 6, 8, 13, 17, 14, 25, 53, 67, 87, 94, 114, 162, 213, 213, 291, 286, 327, 385, 410, 509, 589, 599, 696, 782, 870, 913, 960, 765, 755, 611, 545, 512, 470, 415, 339, 269, 298, 265, 273, 269, 250, 260, 240, 289, 316, 290, 258, 317, 332, 336, 337, 292, 375, 311, 327, 346, 336, 333, 384, 376, 357, 338, 343, 346, 347, 378, 350, 337, 436, 364, 388, 377, 428, 473, 463, 560, 661, 767, 762, 731, 722, 700, 728, 785, 714, 678, 641, 550, 539, 482, 449, 416, 373, 351, 332, 301, 329, 267, 266, 218, 245, 223, 231, 188, 189, 165, 178, 152, 130, 127, 110, 115, 93, 80, 76, 71, 59, 48]\n"
     ]
    }
   ],
   "source": [
    "number_of_rents = [0] * 144\n",
    "old_index = 0\n",
    "for rent in firstday:\n",
    "    index = timeStrToBucket(rent['starttime'])\n",
    "    if index != old_index:\n",
    "        old_index = index\n",
    "    number_of_rents[old_index] += 1\n",
    "    \n",
    "print(number_of_rents)"
   ]
  },
  {
   "cell_type": "code",
   "execution_count": null,
   "metadata": {},
   "outputs": [],
   "source": [
    "with open(\"data/rents_timeline.json\", 'w') as file:\n",
    "    json.dump(number_of_rents, file)"
   ]
  }
 ],
 "metadata": {
  "kernelspec": {
   "display_name": "Python 3",
   "language": "python",
   "name": "python3"
  },
  "language_info": {
   "codemirror_mode": {
    "name": "ipython",
    "version": 3
   },
   "file_extension": ".py",
   "mimetype": "text/x-python",
   "name": "python",
   "nbconvert_exporter": "python",
   "pygments_lexer": "ipython3",
   "version": "3.6.5"
  }
 },
 "nbformat": 4,
 "nbformat_minor": 2
}
